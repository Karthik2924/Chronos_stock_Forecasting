{
  "nbformat": 4,
  "nbformat_minor": 0,
  "metadata": {
    "colab": {
      "provenance": [],
      "gpuType": "T4"
    },
    "kernelspec": {
      "name": "python3",
      "display_name": "Python 3"
    },
    "language_info": {
      "name": "python"
    },
    "accelerator": "GPU"
  },
  "cells": [
    {
      "cell_type": "code",
      "source": [
        "from pathlib import Path\n",
        "from typing import List, Union\n",
        "\n",
        "import numpy as np\n",
        "from gluonts.dataset.arrow import ArrowWriter"
      ],
      "metadata": {
        "id": "6fSXfmS1pqrE",
        "colab": {
          "base_uri": "https://localhost:8080/",
          "height": 349
        },
        "outputId": "d5a6562b-84c7-4adc-8b77-ab2d80e180eb"
      },
      "execution_count": 1,
      "outputs": [
        {
          "output_type": "error",
          "ename": "ModuleNotFoundError",
          "evalue": "No module named 'gluonts'",
          "traceback": [
            "\u001b[0;31m---------------------------------------------------------------------------\u001b[0m",
            "\u001b[0;31mModuleNotFoundError\u001b[0m                       Traceback (most recent call last)",
            "\u001b[0;32m<ipython-input-1-d011224a57a0>\u001b[0m in \u001b[0;36m<cell line: 5>\u001b[0;34m()\u001b[0m\n\u001b[1;32m      3\u001b[0m \u001b[0;34m\u001b[0m\u001b[0m\n\u001b[1;32m      4\u001b[0m \u001b[0;32mimport\u001b[0m \u001b[0mnumpy\u001b[0m \u001b[0;32mas\u001b[0m \u001b[0mnp\u001b[0m\u001b[0;34m\u001b[0m\u001b[0;34m\u001b[0m\u001b[0m\n\u001b[0;32m----> 5\u001b[0;31m \u001b[0;32mfrom\u001b[0m \u001b[0mgluonts\u001b[0m\u001b[0;34m.\u001b[0m\u001b[0mdataset\u001b[0m\u001b[0;34m.\u001b[0m\u001b[0marrow\u001b[0m \u001b[0;32mimport\u001b[0m \u001b[0mArrowWriter\u001b[0m\u001b[0;34m\u001b[0m\u001b[0;34m\u001b[0m\u001b[0m\n\u001b[0m",
            "\u001b[0;31mModuleNotFoundError\u001b[0m: No module named 'gluonts'",
            "",
            "\u001b[0;31m---------------------------------------------------------------------------\u001b[0;32m\nNOTE: If your import is failing due to a missing package, you can\nmanually install dependencies using either !pip or !apt.\n\nTo view examples of installing some common dependencies, click the\n\"Open Examples\" button below.\n\u001b[0;31m---------------------------------------------------------------------------\u001b[0m\n"
          ],
          "errorDetails": {
            "actions": [
              {
                "action": "open_url",
                "actionText": "Open Examples",
                "url": "/notebooks/snippets/importing_libraries.ipynb"
              }
            ]
          }
        }
      ]
    },
    {
      "cell_type": "code",
      "source": [
        "import pandas as pd\n",
        "import numpy as np\n",
        "import talib as ta\n",
        "\n",
        "class TechnicalIndicators:\n",
        "    def __init__(self, data):\n",
        "        self.data = data\n",
        "\n",
        "    def add_momentum_indicators(self):\n",
        "        self.data['RSI'] = ta.RSI(self.data['Close'], timeperiod=14)\n",
        "        self.data['MACD'], self.data['MACD_signal'], self.data['MACD_hist'] = ta.MACD(self.data['Close'], fastperiod=12, slowperiod=26, signalperiod=9)\n",
        "        self.data['Stoch_k'], self.data['Stoch_d'] = ta.STOCH(self.data['High'], self.data['Low'], self.data['Close'],\n",
        "                                                              fastk_period=14, slowk_period=3, slowd_period=3)\n",
        "\n",
        "    def add_volume_indicators(self):\n",
        "        self.data['OBV'] = ta.OBV(self.data['Close'], self.data['Volume'])\n",
        "\n",
        "    def add_volatility_indicators(self):\n",
        "        self.data['Upper_BB'], self.data['Middle_BB'], self.data['Lower_BB'] = ta.BBANDS(self.data['Close'], timeperiod=20)\n",
        "        self.data['ATR_1'] = ta.ATR(self.data['High'], self.data['Low'], self.data['Close'], timeperiod=1)\n",
        "        self.data['ATR_2'] = ta.ATR(self.data['High'], self.data['Low'], self.data['Close'], timeperiod=2)\n",
        "        self.data['ATR_5'] = ta.ATR(self.data['High'], self.data['Low'], self.data['Close'], timeperiod=5)\n",
        "        self.data['ATR_10'] = ta.ATR(self.data['High'], self.data['Low'], self.data['Close'], timeperiod=10)\n",
        "        self.data['ATR_20'] = ta.ATR(self.data['High'], self.data['Low'], self.data['Close'], timeperiod=20)\n",
        "\n",
        "    def add_trend_indicators(self):\n",
        "        self.data['ADX'] = ta.ADX(self.data['High'], self.data['Low'], self.data['Close'], timeperiod=14)\n",
        "        self.data['+DI'] = ta.PLUS_DI(self.data['High'], self.data['Low'], self.data['Close'], timeperiod=14)\n",
        "        self.data['-DI'] = ta.MINUS_DI(self.data['High'], self.data['Low'], self.data['Close'], timeperiod=14)\n",
        "        self.data['CCI'] = ta.CCI(self.data['High'], self.data['Low'], self.data['Close'], timeperiod=5)\n",
        "\n",
        "    def add_other_indicators(self):\n",
        "        self.data['DLR'] = np.log(self.data['Close'] / self.data['Close'].shift(1))\n",
        "        self.data['TWAP'] = self.data['Close'].expanding().mean()\n",
        "        self.data['VWAP'] = (self.data['Volume'] * (self.data['High'] + self.data['Low']) / 2).cumsum() / self.data['Volume'].cumsum()\n",
        "\n",
        "    def add_all_indicators(self):\n",
        "        self.add_momentum_indicators()\n",
        "        self.add_volume_indicators()\n",
        "        self.add_volatility_indicators()\n",
        "        self.add_trend_indicators()\n",
        "        self.add_other_indicators()\n",
        "        return self.data"
      ],
      "metadata": {
        "id": "aC5Q-gsFFEa7"
      },
      "execution_count": null,
      "outputs": []
    },
    {
      "cell_type": "code",
      "source": [
        "data = pd.read_csv('xnas-itch-20230703.tbbo.csv')\n",
        "# Preprocessing to create necessary columns\n",
        "data['price']=data['price']/1e9\n",
        "data['bid_px_00']=data['bid_px_00']/1e9\n",
        "data['ask_px_00']=data['ask_px_00']/1e9\n",
        "\n",
        "data['Close'] = data['price']\n",
        "data['Volume'] = data['size']\n",
        "data['High'] = data[['bid_px_00', 'ask_px_00']].max(axis=1)\n",
        "data['Low'] = data[['bid_px_00', 'ask_px_00']].min(axis=1)\n",
        "data['Open'] = data['Close'].shift(1).fillna(data['Close'])\n",
        "\n",
        "\n",
        "ti = TechnicalIndicators(data)\n",
        "df_with_indicators = ti.add_all_indicators()\n",
        "market_features_df = df_with_indicators[35:]"
      ],
      "metadata": {
        "id": "Rlm2mb2yE-Qz"
      },
      "execution_count": null,
      "outputs": []
    },
    {
      "cell_type": "code",
      "source": [
        "market_features_df['Volume_scaled'] = market_features_df[['Volume']].apply(lambda x: x/10**5)\n"
      ],
      "metadata": {
        "colab": {
          "base_uri": "https://localhost:8080/"
        },
        "id": "wLfRoOxWa5dE",
        "outputId": "7bdd2e8f-86e7-4d85-93c4-b06a8817e8e9"
      },
      "execution_count": null,
      "outputs": [
        {
          "output_type": "stream",
          "name": "stderr",
          "text": [
            "<ipython-input-9-c6d32ebf1bf9>:1: SettingWithCopyWarning: \n",
            "A value is trying to be set on a copy of a slice from a DataFrame.\n",
            "Try using .loc[row_indexer,col_indexer] = value instead\n",
            "\n",
            "See the caveats in the documentation: https://pandas.pydata.org/pandas-docs/stable/user_guide/indexing.html#returning-a-view-versus-a-copy\n",
            "  market_features_df['Volume_scaled'] = market_features_df[['Volume']].apply(lambda x: x/10**5)\n"
          ]
        }
      ]
    },
    {
      "cell_type": "code",
      "source": [
        "features_list = ['Close', 'Volume_scaled', 'High', 'Low', 'Open', 'RSI']#, 'MACD', 'MACD_signal']#, 'Stoch_k', 'Stoch_d']\n",
        "features = [np.array(market_features_df[col].array) for col in features_list]"
      ],
      "metadata": {
        "id": "TED-p7ZSKSzc"
      },
      "execution_count": null,
      "outputs": []
    },
    {
      "cell_type": "code",
      "source": [
        "def convert_to_arrow(\n",
        "    path: Union[str, Path],\n",
        "    time_series: Union[List[np.ndarray], np.ndarray],\n",
        "    compression: str = \"lz4\",\n",
        "):\n",
        "    \"\"\"\n",
        "    Store a given set of series into Arrow format at the specified path.\n",
        "\n",
        "    Input data can be either a list of 1D numpy arrays, or a single 2D\n",
        "    numpy array of shape (num_series, time_length).\n",
        "    \"\"\"\n",
        "    assert isinstance(time_series, list) or (\n",
        "        isinstance(time_series, np.ndarray) and\n",
        "        time_series.ndim == 2\n",
        "    )\n",
        "\n",
        "    # Set an arbitrary start time\n",
        "    start = np.datetime64(\"2000-01-01 00:00\", \"s\")\n",
        "\n",
        "    dataset = [\n",
        "        {\"start\": start, \"target\": ts} for ts in time_series\n",
        "    ]\n",
        "\n",
        "    ArrowWriter(compression=compression).write_to_file(\n",
        "        dataset,\n",
        "        path=path,\n",
        "\n",
        "    )\n",
        "convert_to_arrow(\"close.arrow\", time_series=[np.array(market_features_df['Close'].array)])\n"
      ],
      "metadata": {
        "id": "gLH6wcnKamq5"
      },
      "execution_count": null,
      "outputs": []
    }
  ]
}