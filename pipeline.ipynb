{
 "cells": [
  {
   "cell_type": "markdown",
   "metadata": {},
   "source": [
    "## Preprocessing and Computing different indicators"
   ]
  },
  {
   "cell_type": "code",
   "execution_count": 1,
   "metadata": {},
   "outputs": [],
   "source": [
    "import pandas as pd\n",
    "import numpy as np\n",
    "import talib as ta\n",
    "import matplotlib.pyplot as plt\n",
    "import numpy as np\n",
    "import pandas as pd\n",
    "import torch\n",
    "class TechnicalIndicators:\n",
    "    def __init__(self, data):\n",
    "        self.data = data\n",
    "\n",
    "    def add_momentum_indicators(self):\n",
    "        self.data['RSI'] = ta.RSI(self.data['Close'], timeperiod=14)\n",
    "        self.data['MACD'], self.data['MACD_signal'], self.data['MACD_hist'] = ta.MACD(self.data['Close'], fastperiod=12, slowperiod=26, signalperiod=9)\n",
    "        self.data['Stoch_k'], self.data['Stoch_d'] = ta.STOCH(self.data['High'], self.data['Low'], self.data['Close'],\n",
    "                                                              fastk_period=14, slowk_period=3, slowd_period=3)\n",
    "\n",
    "    def add_volume_indicators(self):\n",
    "        self.data['OBV'] = ta.OBV(self.data['Close'], self.data['Volume'])\n",
    "\n",
    "    def add_volatility_indicators(self):\n",
    "        self.data['Upper_BB'], self.data['Middle_BB'], self.data['Lower_BB'] = ta.BBANDS(self.data['Close'], timeperiod=20)\n",
    "        self.data['ATR_1'] = ta.ATR(self.data['High'], self.data['Low'], self.data['Close'], timeperiod=1)\n",
    "        self.data['ATR_2'] = ta.ATR(self.data['High'], self.data['Low'], self.data['Close'], timeperiod=2)\n",
    "        self.data['ATR_5'] = ta.ATR(self.data['High'], self.data['Low'], self.data['Close'], timeperiod=5)\n",
    "        self.data['ATR_10'] = ta.ATR(self.data['High'], self.data['Low'], self.data['Close'], timeperiod=10)\n",
    "        self.data['ATR_20'] = ta.ATR(self.data['High'], self.data['Low'], self.data['Close'], timeperiod=20)\n",
    "\n",
    "    def add_trend_indicators(self):\n",
    "        self.data['ADX'] = ta.ADX(self.data['High'], self.data['Low'], self.data['Close'], timeperiod=14)\n",
    "        self.data['+DI'] = ta.PLUS_DI(self.data['High'], self.data['Low'], self.data['Close'], timeperiod=14)\n",
    "        self.data['-DI'] = ta.MINUS_DI(self.data['High'], self.data['Low'], self.data['Close'], timeperiod=14)\n",
    "        self.data['CCI'] = ta.CCI(self.data['High'], self.data['Low'], self.data['Close'], timeperiod=5)\n",
    "\n",
    "    def add_other_indicators(self):\n",
    "        self.data['DLR'] = np.log(self.data['Close'] / self.data['Close'].shift(1))\n",
    "        self.data['TWAP'] = self.data['Close'].expanding().mean()\n",
    "        self.data['VWAP'] = (self.data['Volume'] * (self.data['High'] + self.data['Low']) / 2).cumsum() / self.data['Volume'].cumsum()\n",
    "\n",
    "    def add_all_indicators(self):\n",
    "        self.add_momentum_indicators()\n",
    "        self.add_volume_indicators()\n",
    "        self.add_volatility_indicators()\n",
    "        self.add_trend_indicators()\n",
    "        self.add_other_indicators()\n",
    "        return self.data"
   ]
  },
  {
   "cell_type": "code",
   "execution_count": 2,
   "metadata": {},
   "outputs": [],
   "source": [
    "data = pd.read_csv('xnas-itch-20230703.tbbo.csv')\n",
    "# Preprocessing to create necessary columns\n",
    "data['price']=data['price']/1e9\n",
    "data['bid_px_00']=data['bid_px_00']/1e9\n",
    "data['ask_px_00']=data['ask_px_00']/1e9\n",
    "\n",
    "data['Close'] = data['price']\n",
    "data['Volume'] = data['size']\n",
    "data['High'] = data[['bid_px_00', 'ask_px_00']].max(axis=1)\n",
    "data['Low'] = data[['bid_px_00', 'ask_px_00']].min(axis=1)\n",
    "data['Open'] = data['Close'].shift(1).fillna(data['Close'])\n",
    "\n",
    "\n",
    "ti = TechnicalIndicators(data)\n",
    "df_with_indicators = ti.add_all_indicators()\n",
    "market_features_df = df_with_indicators[35:]"
   ]
  },
  {
   "cell_type": "code",
   "execution_count": 39,
   "metadata": {},
   "outputs": [
    {
     "name": "stderr",
     "output_type": "stream",
     "text": [
      "/tmp/ipykernel_948/1658978535.py:1: SettingWithCopyWarning: \n",
      "A value is trying to be set on a copy of a slice from a DataFrame.\n",
      "Try using .loc[row_indexer,col_indexer] = value instead\n",
      "\n",
      "See the caveats in the documentation: https://pandas.pydata.org/pandas-docs/stable/user_guide/indexing.html#returning-a-view-versus-a-copy\n",
      "  market_features_df['Volume_scaled'] = market_features_df[['Volume']].apply(lambda x: x/10**5)\n"
     ]
    }
   ],
   "source": [
    "market_features_df['Volume_scaled'] = market_features_df[['Volume']].apply(lambda x: x/10**5)\n"
   ]
  },
  {
   "cell_type": "code",
   "execution_count": 40,
   "metadata": {},
   "outputs": [],
   "source": [
    "features_list = ['Close', 'Volume_scaled', 'High', 'Low', 'Open', 'RSI']#, 'MACD', 'MACD_signal']#, 'Stoch_k', 'Stoch_d']\n",
    "features = [np.array(market_features_df[col].array) for col in features_list]"
   ]
  },
  {
   "cell_type": "code",
   "execution_count": 41,
   "metadata": {},
   "outputs": [],
   "source": [
    "dfeatures = market_features_df[features_list]"
   ]
  },
  {
   "cell_type": "markdown",
   "metadata": {},
   "source": [
    "## Create prediction pipelines\n",
    "* Comaring 2 pipelines\n",
    "    * Original Chronos which performs well with zero shot tasks\n",
    "    * Chronos model trained from scratch on only the given data\n",
    "    * Base model was chose as t5-tiny llm keeping computational costs in mind."
   ]
  },
  {
   "cell_type": "code",
   "execution_count": 6,
   "metadata": {},
   "outputs": [
    {
     "data": {
      "application/vnd.jupyter.widget-view+json": {
       "model_id": "b916bb9c301b460fa98af6bd0712c621",
       "version_major": 2,
       "version_minor": 0
      },
      "text/plain": [
       "config.json:   0%|          | 0.00/1.14k [00:00<?, ?B/s]"
      ]
     },
     "metadata": {},
     "output_type": "display_data"
    },
    {
     "data": {
      "application/vnd.jupyter.widget-view+json": {
       "model_id": "ce2e76b96dff4a6b8e53cb0d4ed66844",
       "version_major": 2,
       "version_minor": 0
      },
      "text/plain": [
       "model.safetensors:   0%|          | 0.00/33.6M [00:00<?, ?B/s]"
      ]
     },
     "metadata": {},
     "output_type": "display_data"
    },
    {
     "data": {
      "application/vnd.jupyter.widget-view+json": {
       "model_id": "e51938632f294e7ab5d01dbd8fb55f7c",
       "version_major": 2,
       "version_minor": 0
      },
      "text/plain": [
       "generation_config.json:   0%|          | 0.00/142 [00:00<?, ?B/s]"
      ]
     },
     "metadata": {},
     "output_type": "display_data"
    }
   ],
   "source": [
    "from chronos import ChronosPipeline\n",
    "\n",
    "pipeline = ChronosPipeline.from_pretrained(\"/workspace/checkpoint/\",  device_map=\"cuda\",\n",
    "                                              torch_dtype=torch.bfloat16)\n",
    "pipeline2 = ChronosPipeline.from_pretrained(\n",
    "  \"amazon/chronos-t5-tiny\",\n",
    "  device_map=\"cuda\",\n",
    "  torch_dtype=torch.bfloat16,\n",
    ")"
   ]
  },
  {
   "cell_type": "markdown",
   "metadata": {},
   "source": [
    "## Generate Labels/indicators for labels"
   ]
  },
  {
   "cell_type": "code",
   "execution_count": 66,
   "metadata": {},
   "outputs": [],
   "source": [
    "class generate_label:\n",
    "  def __init__(self,df,pipeline,history = 100,nsteps = 5, buy_threshold = 0.01,sell_threshold = -0.01):\n",
    "    self.df = df\n",
    "    self.pipeline = pipeline\n",
    "    self.nsteps = nsteps\n",
    "    self.buy_threshold = buy_threshold\n",
    "    self.sell_threshold = sell_threshold\n",
    "    self.history = history\n",
    "    self.features_list = ['Close', 'Volume_scaled', 'High', 'Low', 'Open', 'RSI']\n",
    "  def get_label(self,row):\n",
    "      '''\n",
    "      use the model to and past_data to predict, future data on the price(close price) of the stock\n",
    "      have at least 100 samples to predict\n",
    "      '''\n",
    "      if row < self.history:\n",
    "        return 0,0\n",
    "      cur_close = self.df.iloc[row]['Close']\n",
    "      \n",
    "      context = [torch.tensor(self.df[col][row-self.history:row].array) for col in self.features_list]\n",
    "      forecast = self.pipeline.predict(context,self.nsteps)\n",
    "      median_close = torch.quantile(forecast,0.5,axis = 1)[0]\n",
    "      max_future_price = torch.max(median_close)\n",
    "      min_future_price = torch.min(median_close)\n",
    "      max_pct_change = (max_future_price - cur_close)/cur_close\n",
    "      min_pct_change = (min_future_price - cur_close)/cur_close\n",
    "      return max_pct_change.item(),min_pct_change.item()\n",
    "      # if max_pct_change > self.buy_threshold:\n",
    "      #   return 'buy'\n",
    "      # elif min_pct_change < self.sell_threshold:\n",
    "      #   return 'sell'\n",
    "      # else:\n",
    "      #   return 'hold'\n",
    "  def get_labels(self):\n",
    "    print(\"getting labels ****\")\n",
    "    # labels = []\n",
    "    max_pct = []\n",
    "    min_pct = []\n",
    "    for i in range(len(self.df)):\n",
    "      ret = self.get_label(i)\n",
    "      max_pct.append(ret[0])\n",
    "      min_pct.append(ret[1])\n",
    "      #labels.append(self.get_label(i))\n",
    "    return max_pct , min_pct\n",
    "  def assign_labels(self):\n",
    "    # self.df['labels'] = self.get_labels()\n",
    "      ret = self.get_labels()\n",
    "      self.df['max_pct_change'] = ret[0]\n",
    "      self.df['min_pct_change'] = ret[1]"
   ]
  },
  {
   "cell_type": "markdown",
   "metadata": {},
   "source": []
  },
  {
   "cell_type": "code",
   "execution_count": 67,
   "metadata": {},
   "outputs": [
    {
     "name": "stdout",
     "output_type": "stream",
     "text": [
      "getting labels ****\n"
     ]
    },
    {
     "name": "stderr",
     "output_type": "stream",
     "text": [
      "/tmp/ipykernel_948/253167479.py:47: SettingWithCopyWarning: \n",
      "A value is trying to be set on a copy of a slice from a DataFrame.\n",
      "Try using .loc[row_indexer,col_indexer] = value instead\n",
      "\n",
      "See the caveats in the documentation: https://pandas.pydata.org/pandas-docs/stable/user_guide/indexing.html#returning-a-view-versus-a-copy\n",
      "  self.df['max_pct_change'] = ret[0]\n",
      "/tmp/ipykernel_948/253167479.py:48: SettingWithCopyWarning: \n",
      "A value is trying to be set on a copy of a slice from a DataFrame.\n",
      "Try using .loc[row_indexer,col_indexer] = value instead\n",
      "\n",
      "See the caveats in the documentation: https://pandas.pydata.org/pandas-docs/stable/user_guide/indexing.html#returning-a-view-versus-a-copy\n",
      "  self.df['min_pct_change'] = ret[1]\n"
     ]
    }
   ],
   "source": [
    "labeler = generate_label(dfeatures,pipeline,buy_threshold=0.007,sell_threshold = -0.005,nsteps = 12)\n",
    "labeler.assign_labels()"
   ]
  },
  {
   "cell_type": "code",
   "execution_count": 65,
   "metadata": {},
   "outputs": [
    {
     "data": {
      "text/plain": [
       "35     0.000000\n",
       "36     0.000000\n",
       "37     0.000000\n",
       "38     0.000000\n",
       "39     0.000000\n",
       "         ...   \n",
       "230    0.006861\n",
       "231    0.006809\n",
       "232    0.006809\n",
       "233    0.006756\n",
       "234    0.007171\n",
       "Name: max_pct_change, Length: 200, dtype: float64"
      ]
     },
     "execution_count": 65,
     "metadata": {},
     "output_type": "execute_result"
    }
   ],
   "source": [
    "labeler.df['max_pct_change']"
   ]
  },
  {
   "cell_type": "code",
   "execution_count": 62,
   "metadata": {},
   "outputs": [
    {
     "data": {
      "text/plain": [
       "0.0069"
      ]
     },
     "execution_count": 62,
     "metadata": {},
     "output_type": "execute_result"
    }
   ],
   "source": [
    " torch.tensor(0.0069, dtype=torch.float64).item()"
   ]
  },
  {
   "cell_type": "code",
   "execution_count": 33,
   "metadata": {},
   "outputs": [
    {
     "data": {
      "text/plain": [
       "labels\n",
       "buy     33629\n",
       "hold    25108\n",
       "sell      499\n",
       "Name: count, dtype: int64"
      ]
     },
     "execution_count": 33,
     "metadata": {},
     "output_type": "execute_result"
    }
   ],
   "source": [
    "labeler.df['labels'].value_counts()"
   ]
  },
  {
   "cell_type": "code",
   "execution_count": 68,
   "metadata": {},
   "outputs": [],
   "source": [
    "# Save data to disk\n",
    "labeler.df.to_csv('trained_data.csv',index = False)"
   ]
  },
  {
   "cell_type": "code",
   "execution_count": null,
   "metadata": {},
   "outputs": [],
   "source": []
  }
 ],
 "metadata": {
  "kernelspec": {
   "display_name": "Python 3 (ipykernel)",
   "language": "python",
   "name": "python3"
  },
  "language_info": {
   "codemirror_mode": {
    "name": "ipython",
    "version": 3
   },
   "file_extension": ".py",
   "mimetype": "text/x-python",
   "name": "python",
   "nbconvert_exporter": "python",
   "pygments_lexer": "ipython3",
   "version": "3.10.12"
  }
 },
 "nbformat": 4,
 "nbformat_minor": 4
}
